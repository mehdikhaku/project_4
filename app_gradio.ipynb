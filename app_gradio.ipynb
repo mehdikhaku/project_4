{
 "cells": [
  {
   "cell_type": "code",
   "execution_count": 90,
   "id": "e62bb979-9795-4254-b0e2-99c74d39c14c",
   "metadata": {},
   "outputs": [],
   "source": [
    "import gradio as gr\n",
    "import numpy as np\n",
    "import pandas as pd\n",
    "import matplotlib.pyplot as plt\n",
    "from sklearn.preprocessing import MinMaxScaler\n",
    "from sklearn.linear_model import LinearRegression\n",
    "from sklearn.metrics import r2_score\n",
    "import tensorflow as tf\n",
    "from tensorflow.keras.models import Sequential\n",
    "from tensorflow.keras.layers import LSTM, Dense, Dropout"
   ]
  },
  {
   "cell_type": "code",
   "execution_count": 92,
   "id": "e4091ef0-fabf-45ca-9544-a0aab44a2b72",
   "metadata": {},
   "outputs": [
    {
     "name": "stderr",
     "output_type": "stream",
     "text": [
      "C:\\Users\\Mimy\\anaconda3\\Lib\\site-packages\\keras\\src\\layers\\rnn\\rnn.py:200: UserWarning: Do not pass an `input_shape`/`input_dim` argument to a layer. When using Sequential models, prefer using an `Input(shape)` object as the first layer in the model instead.\n",
      "  super().__init__(**kwargs)\n"
     ]
    },
    {
     "name": "stdout",
     "output_type": "stream",
     "text": [
      "Epoch 1/10\n",
      "\u001b[1m7/7\u001b[0m \u001b[32m━━━━━━━━━━━━━━━━━━━━\u001b[0m\u001b[37m\u001b[0m \u001b[1m14s\u001b[0m 71ms/step - loss: 0.3794\n",
      "Epoch 2/10\n",
      "\u001b[1m7/7\u001b[0m \u001b[32m━━━━━━━━━━━━━━━━━━━━\u001b[0m\u001b[37m\u001b[0m \u001b[1m0s\u001b[0m 18ms/step - loss: 0.1877\n",
      "Epoch 3/10\n",
      "\u001b[1m7/7\u001b[0m \u001b[32m━━━━━━━━━━━━━━━━━━━━\u001b[0m\u001b[37m\u001b[0m \u001b[1m0s\u001b[0m 16ms/step - loss: 0.0655\n",
      "Epoch 4/10\n",
      "\u001b[1m7/7\u001b[0m \u001b[32m━━━━━━━━━━━━━━━━━━━━\u001b[0m\u001b[37m\u001b[0m \u001b[1m0s\u001b[0m 18ms/step - loss: 0.0644\n",
      "Epoch 5/10\n",
      "\u001b[1m7/7\u001b[0m \u001b[32m━━━━━━━━━━━━━━━━━━━━\u001b[0m\u001b[37m\u001b[0m \u001b[1m0s\u001b[0m 17ms/step - loss: 0.0334\n",
      "Epoch 6/10\n",
      "\u001b[1m7/7\u001b[0m \u001b[32m━━━━━━━━━━━━━━━━━━━━\u001b[0m\u001b[37m\u001b[0m \u001b[1m0s\u001b[0m 13ms/step - loss: 0.0425\n",
      "Epoch 7/10\n",
      "\u001b[1m7/7\u001b[0m \u001b[32m━━━━━━━━━━━━━━━━━━━━\u001b[0m\u001b[37m\u001b[0m \u001b[1m0s\u001b[0m 14ms/step - loss: 0.0510\n",
      "Epoch 8/10\n",
      "\u001b[1m7/7\u001b[0m \u001b[32m━━━━━━━━━━━━━━━━━━━━\u001b[0m\u001b[37m\u001b[0m \u001b[1m0s\u001b[0m 13ms/step - loss: 0.0301\n",
      "Epoch 9/10\n",
      "\u001b[1m7/7\u001b[0m \u001b[32m━━━━━━━━━━━━━━━━━━━━\u001b[0m\u001b[37m\u001b[0m \u001b[1m0s\u001b[0m 18ms/step - loss: 0.0313\n",
      "Epoch 10/10\n",
      "\u001b[1m7/7\u001b[0m \u001b[32m━━━━━━━━━━━━━━━━━━━━\u001b[0m\u001b[37m\u001b[0m \u001b[1m0s\u001b[0m 14ms/step - loss: 0.0276\n",
      "\u001b[1m1/1\u001b[0m \u001b[32m━━━━━━━━━━━━━━━━━━━━\u001b[0m\u001b[37m\u001b[0m \u001b[1m1s\u001b[0m 1s/step\n"
     ]
    },
    {
     "name": "stderr",
     "output_type": "stream",
     "text": [
      "C:\\Users\\Mimy\\anaconda3\\Lib\\site-packages\\gradio\\interface.py:403: UserWarning: The `allow_flagging` parameter in `Interface` is deprecated.Use `flagging_mode` instead.\n",
      "  warnings.warn(\n"
     ]
    },
    {
     "name": "stdout",
     "output_type": "stream",
     "text": [
      "* Running on local URL:  http://127.0.0.1:7861\n",
      "\n",
      "Could not create share link. Missing file: C:\\Users\\Mimy\\anaconda3\\Lib\\site-packages\\gradio\\frpc_windows_amd64_v0.3. \n",
      "\n",
      "Please check your internet connection. This can happen if your antivirus software blocks the download of this file. You can install manually by following these steps: \n",
      "\n",
      "1. Download this file: https://cdn-media.huggingface.co/frpc-gradio-0.3/frpc_windows_amd64.exe\n",
      "2. Rename the downloaded file to: frpc_windows_amd64_v0.3\n",
      "3. Move the file to this location: C:\\Users\\Mimy\\anaconda3\\Lib\\site-packages\\gradio\n"
     ]
    },
    {
     "data": {
      "text/html": [
       "<div><iframe src=\"http://127.0.0.1:7861/\" width=\"100%\" height=\"500\" allow=\"autoplay; camera; microphone; clipboard-read; clipboard-write;\" frameborder=\"0\" allowfullscreen></iframe></div>"
      ],
      "text/plain": [
       "<IPython.core.display.HTML object>"
      ]
     },
     "metadata": {},
     "output_type": "display_data"
    },
    {
     "data": {
      "text/plain": []
     },
     "execution_count": 92,
     "metadata": {},
     "output_type": "execute_result"
    }
   ],
   "source": [
    "def load_data():\n",
    "    df = pd.read_csv('stock_data.csv')  # Ensure correct file path\n",
    "    df.columns = df.columns.str.strip()\n",
    "    df['Date'] = pd.to_datetime(df['Date'])\n",
    "    df.set_index('Date', inplace=True)\n",
    "    return df[-30:]  # Keep only the last 30 days\n",
    "\n",
    "def prepare_lstm_data(df, time_steps=5):\n",
    "    scaler = MinMaxScaler()\n",
    "    df_scaled = scaler.fit_transform(df[['Close_sp500']])\n",
    "    X, y = [], []\n",
    "    for i in range(len(df_scaled) - time_steps):\n",
    "        X.append(df_scaled[i:i+time_steps])\n",
    "        y.append(df_scaled[i+time_steps])\n",
    "    return np.array(X), np.array(y), scaler\n",
    "\n",
    "def build_lstm_model(time_steps):\n",
    "    model = Sequential([\n",
    "        LSTM(50, return_sequences=True, input_shape=(time_steps, 1)),\n",
    "        Dropout(0.2),\n",
    "        LSTM(50, return_sequences=False),\n",
    "        Dense(1)\n",
    "    ])\n",
    "    model.compile(optimizer='adam', loss='mean_squared_error')\n",
    "    return model\n",
    "\n",
    "def train_models():\n",
    "    df = load_data()\n",
    "    time_steps = 5\n",
    "    \n",
    "    # LSTM Model Training\n",
    "    X_lstm, y_lstm, scaler = prepare_lstm_data(df, time_steps)\n",
    "    if len(X_lstm) > 0:\n",
    "        model_lstm = build_lstm_model(time_steps)\n",
    "        model_lstm.fit(X_lstm, y_lstm, epochs=10, batch_size=4, verbose=1)\n",
    "        y_lstm_pred = model_lstm.predict(X_lstm)\n",
    "        y_lstm_pred = scaler.inverse_transform(y_lstm_pred)\n",
    "        y_lstm_true = scaler.inverse_transform(y_lstm)\n",
    "    else:\n",
    "        model_lstm, y_lstm_pred, y_lstm_true = None, None, None\n",
    "    \n",
    "    # Linear Regression Training\n",
    "    df['Lag_Close_sp500'] = df['Close_sp500'].shift(1)\n",
    "    df.dropna(inplace=True)\n",
    "    if len(df) > 1:\n",
    "        X_lr, y_lr = df[['Lag_Close_sp500']].values, df['Close_sp500'].values\n",
    "        model_lr = LinearRegression()\n",
    "        model_lr.fit(X_lr, y_lr)\n",
    "        y_lr_pred = model_lr.predict(X_lr)\n",
    "    else:\n",
    "        model_lr, y_lr_pred = None, None\n",
    "    \n",
    "    return model_lstm, model_lr, scaler, df, y_lstm_true, y_lstm_pred, y_lr_pred\n",
    "\n",
    "model_lstm, model_lr, scaler, df, y_lstm_true, y_lstm_pred, y_lr_pred = train_models()\n",
    "\n",
    "def plot_last_30_days():\n",
    "    plt.figure(figsize=(10, 5))\n",
    "    last_30_days = df.index[-len(y_lstm_true):]\n",
    "    plt.plot(last_30_days, y_lstm_true, label=\"Actual Price\", color=\"blue\")\n",
    "    if y_lstm_pred is not None:\n",
    "        plt.plot(last_30_days, y_lstm_pred, label=\"LSTM Predicted Price\", color=\"orange\")\n",
    "    if y_lr_pred is not None:\n",
    "        plt.plot(last_30_days, y_lr_pred[-len(last_30_days):], label=\"Linear Regression Predicted Price\", color=\"green\")\n",
    "    plt.xlabel(\"Date\")\n",
    "    plt.ylabel(\"Stock Price\")\n",
    "    plt.title(\"S&P 500 Stock Price Prediction\")  # Removed R² references\n",
    "    plt.xticks(rotation=45)\n",
    "    plt.legend()\n",
    "    plt.grid()\n",
    "    plt.savefig(\"last_30_days_plot.png\")\n",
    "    return \"last_30_days_plot.png\", \"\"\n",
    "\n",
    "def get_prediction(model_choice, selected_date):\n",
    "    last_30_days = df.index[-len(y_lstm_true):]\n",
    "    if pd.to_datetime(selected_date) not in last_30_days:\n",
    "        return \"Invalid date selected. Please choose a date from the last 30 days.\"\n",
    "    \n",
    "    index = list(last_30_days).index(pd.to_datetime(selected_date))\n",
    "    actual_price = y_lstm_true[index] if index < len(y_lstm_true) else \"N/A\"\n",
    "    \n",
    "    if model_choice == \"LSTM\" and y_lstm_pred is not None:\n",
    "        predicted_price = y_lstm_pred[index] if index < len(y_lstm_pred) else \"N/A\"\n",
    "    elif model_choice == \"Linear Regression\" and y_lr_pred is not None:\n",
    "        predicted_price = y_lr_pred[index] if index < len(y_lr_pred) else \"N/A\"\n",
    "    else:\n",
    "        return \"Prediction not available for the selected model.\"\n",
    "    \n",
    "    return f\"Actual Price: {actual_price}, Predicted Price ({model_choice}): {predicted_price}\"\n",
    "\n",
    "demo = gr.Blocks()\n",
    "with demo:\n",
    "    gr.Markdown(\"\"\"## Stock Price Prediction\n",
    "    Compare the performance of LSTM and Linear Regression models for S&P 500 predictions.\n",
    "    \"\"\")\n",
    "    gr.Image(plot_last_30_days()[0], label=\"Default Prediction Plot (Last 30 Days)\")\n",
    "    \n",
    "    model_choice = gr.Dropdown(choices=[\"LSTM\", \"Linear Regression\"], label=\"Select Model\")\n",
    "    date_selection = gr.Dropdown(choices=[str(d.date()) for d in df.index[-len(y_lstm_true):]], label=\"Select Date\")\n",
    "    prediction_output = gr.Textbox(label=\"Prediction Result\")\n",
    "    \n",
    "    gr.Interface(\n",
    "        fn=get_prediction,\n",
    "        inputs=[model_choice, date_selection],\n",
    "        outputs=prediction_output,\n",
    "        allow_flagging=\"never\"\n",
    "    )\n",
    "\n",
    "demo.launch(share=True)\n"
   ]
  },
  {
   "cell_type": "code",
   "execution_count": 72,
   "id": "3719c14c-f9c9-4d72-bfe3-3437755dc96d",
   "metadata": {},
   "outputs": [
    {
     "name": "stdout",
     "output_type": "stream",
     "text": [
      "Requirement already satisfied: pyngrok in c:\\users\\mimy\\anaconda3\\lib\\site-packages (7.2.3)\n",
      "Requirement already satisfied: PyYAML>=5.1 in c:\\users\\mimy\\anaconda3\\lib\\site-packages (from pyngrok) (6.0.1)\n",
      "Note: you may need to restart the kernel to use updated packages.\n"
     ]
    }
   ],
   "source": [
    "pip install pyngrok"
   ]
  },
  {
   "cell_type": "code",
   "execution_count": 80,
   "id": "be22592f-15ac-4145-b73d-4b7644ceeeef",
   "metadata": {},
   "outputs": [
    {
     "name": "stdout",
     "output_type": "stream",
     "text": [
      "Rerunning server... use `close()` to stop if you need to change `launch()` parameters.\n",
      "----\n",
      "\n",
      "To create a public link, set `share=True` in `launch()`.\n"
     ]
    },
    {
     "data": {
      "text/html": [
       "<div><iframe src=\"http://127.0.0.1:7914/\" width=\"100%\" height=\"500\" allow=\"autoplay; camera; microphone; clipboard-read; clipboard-write;\" frameborder=\"0\" allowfullscreen></iframe></div>"
      ],
      "text/plain": [
       "<IPython.core.display.HTML object>"
      ]
     },
     "metadata": {},
     "output_type": "display_data"
    },
    {
     "data": {
      "text/plain": []
     },
     "execution_count": 80,
     "metadata": {},
     "output_type": "execute_result"
    }
   ],
   "source": [
    "demo.launch(server_name='10.0.0.194', server_port=7860)"
   ]
  },
  {
   "cell_type": "code",
   "execution_count": 86,
   "id": "4b5e0aec-ccc4-40f7-be2d-ed352cb649c8",
   "metadata": {},
   "outputs": [
    {
     "name": "stdout",
     "output_type": "stream",
     "text": [
      "Requirement already satisfied: pyngrok in c:\\users\\mimy\\anaconda3\\lib\\site-packages (7.2.3)\n",
      "Requirement already satisfied: PyYAML>=5.1 in c:\\users\\mimy\\anaconda3\\lib\\site-packages (from pyngrok) (6.0.1)\n"
     ]
    }
   ],
   "source": [
    "!pip install pyngrok"
   ]
  },
  {
   "cell_type": "code",
   "execution_count": null,
   "id": "b4690c30-3cf5-4824-8e42-789672d63b1e",
   "metadata": {},
   "outputs": [],
   "source": []
  }
 ],
 "metadata": {
  "kernelspec": {
   "display_name": "Python 3 (ipykernel)",
   "language": "python",
   "name": "python3"
  },
  "language_info": {
   "codemirror_mode": {
    "name": "ipython",
    "version": 3
   },
   "file_extension": ".py",
   "mimetype": "text/x-python",
   "name": "python",
   "nbconvert_exporter": "python",
   "pygments_lexer": "ipython3",
   "version": "3.12.3"
  }
 },
 "nbformat": 4,
 "nbformat_minor": 5
}
